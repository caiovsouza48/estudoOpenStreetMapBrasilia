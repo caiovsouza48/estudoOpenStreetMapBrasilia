{
 "cells": [
  {
   "cell_type": "markdown",
   "metadata": {},
   "source": [
    "# Estudo de Caso: OpenStreetMap"
   ]
  },
  {
   "cell_type": "markdown",
   "metadata": {},
   "source": [
    "**Área: Brasília, DF, Brasíl**\n",
    "\n",
    "* https://www.openstreetmap.org/relation/2758138\n",
    "\n",
    "* http://overpass-api.de/api/map?bbox=-48.2815,-15.9514,-47.5914,-15.4854\n",
    "\n",
    "\n",
    "**Motivação**: Este Mapa representa a cidade onde eu moro, gostaria de estudar sobre os dados da cidade e por morar aqui é mais fácil detectar erros no conjunto de dados."
   ]
  },
  {
   "cell_type": "markdown",
   "metadata": {},
   "source": [
    "# Problemas Encontrados\n",
    "\n",
    "Após Gerar um Arquivo de Treino utilizando o código abaixo e realizando uma auditoria poucos problemas foram encontrados que serão discutidos em tópicos separados:\n",
    "\n",
    "* Enderecos muito abreviados()\n",
    "\n",
    "* CEP(Código postal) em diferentes formatos"
   ]
  },
  {
   "cell_type": "markdown",
   "metadata": {},
   "source": [
    "# * Endereços muito abreviados"
   ]
  },
  {
   "cell_type": "markdown",
   "metadata": {},
   "source": [
    "Fazendo uma auditoria direto no arquivo OSM antes da importação para o banco de dados SQL foram encontrados diversos endereços com várias abreviações como QD, ED, Lt etc... Apesar de brasília ser conhecido por endereços abreviados como SHIN QL 9 11, esticar todo o endereço seria estranho para os próprios habitantes e ruim para o banco de dados, então foi decidido esticar apenas as abreviações não referentes ao inicio do endereço, traduzindo apenas QD para Quadra, Av para Avenida etc...\n",
    "\n",
    "Exemplo: **SHIN QL 9 11 => SHIN Quadra do Lago 9 11**"
   ]
  },
  {
   "cell_type": "markdown",
   "metadata": {},
   "source": [
    "# * Códigos postais em diferentes formatos"
   ]
  },
  {
   "cell_type": "markdown",
   "metadata": {},
   "source": [
    "**Auditando Código-postal(CEP)**\n",
    "\n",
    "   O Padrão estabelecido para um formato de CEP para o banco de dados é somente texto com 8 digitos numéricos, Foram identificados alguns registros fora do padrão de 8 dígitos, foi auditado a validade dos CEPs para a região e se existiam coordenadas(latitude,longitude) com CEPs diferentes, nenhum erro de validação e consistência foi encontrado. O Código em questão utilizado para a auditória foi o **audit_cep.py**"
   ]
  },
  {
   "cell_type": "code",
   "execution_count": null,
   "metadata": {
    "collapsed": false
   },
   "outputs": [],
   "source": [
    "Encontrados 15 CEPs Com Problemas\n",
    "set(['70.687-305',\n",
    "     '70070-600',\n",
    "     '70070-940',\n",
    "     '70238-110',\n",
    "     '70419-900',\n",
    "     '70716-900',\n",
    "     '70867-510',\n",
    "     '70867-540',\n",
    "     '71.961-540',\n",
    "     '71503-505',\n",
    "     '71570-613',\n",
    "     '71572-304',\n",
    "     '71680-357',\n",
    "     '71925-720',\n",
    "     '72220-061'])"
   ]
  },
  {
   "cell_type": "markdown",
   "metadata": {},
   "source": [
    "# Gerando XML corrigido\n",
    "\n",
    "Apos tomar ciência dos problemas acima foi escrito código para gerar um XML com a correção proposta, tanto para as abreviações dos endereços quanto para os códigos postais, o código está no arquivo **osm_cleaned_generator.py**."
   ]
  },
  {
   "cell_type": "markdown",
   "metadata": {
    "collapsed": true
   },
   "source": [
    "Feito Isto, foi executado o código contigo no arquivo data.py para criação dos arquivos CSV e assim importar os dados para um banco de dados SQL."
   ]
  },
  {
   "cell_type": "markdown",
   "metadata": {},
   "source": [
    "# Análise de dados\n",
    "\n",
    "Esta seção contém números e estatísticas adquiridos por consultas no banco de dados além de ideias adicionais. Todas as Queries aqui listadas foram consultadas no Banco de Dados gerado a partir da importação dos CSVs que foram gerados do arquivo bsb.cleaned.osm"
   ]
  },
  {
   "cell_type": "markdown",
   "metadata": {},
   "source": [
    "**Tamanho dos Arquivos**\n",
    "\n"
   ]
  },
  {
   "cell_type": "code",
   "execution_count": null,
   "metadata": {
    "collapsed": false
   },
   "outputs": [],
   "source": [
    "bsb.osm ................. 79.2 MB\n",
    "bsb_cleaned.osm.......... 79,4 MB\n",
    "brasilia_osm.db.......... 42 MB\n",
    "nodes.csv ............... 28 MB\n",
    "nodes_tags.csv .......... 1 MB\n",
    "ways.csv ................ 4.5 MB\n",
    "ways_tags.csv ........... 5.1 MB\n",
    "ways_nodes.cv ........... 10.2 MB "
   ]
  },
  {
   "cell_type": "markdown",
   "metadata": {},
   "source": [
    "** Número de Nodos**"
   ]
  },
  {
   "cell_type": "code",
   "execution_count": null,
   "metadata": {
    "collapsed": true
   },
   "outputs": [],
   "source": [
    "sqlite> SELECT COUNT(*) FROM nodes;\n",
    "\n",
    "320216"
   ]
  },
  {
   "cell_type": "markdown",
   "metadata": {},
   "source": [
    "** Número de 'Ways'**"
   ]
  },
  {
   "cell_type": "code",
   "execution_count": null,
   "metadata": {
    "collapsed": true
   },
   "outputs": [],
   "source": [
    "sqlite> SELECT COUNT(*) FROM ways;\n",
    "\n",
    "71143"
   ]
  },
  {
   "cell_type": "markdown",
   "metadata": {},
   "source": [
    "** Número de usuários únicos**"
   ]
  },
  {
   "cell_type": "code",
   "execution_count": null,
   "metadata": {
    "collapsed": false
   },
   "outputs": [],
   "source": [
    "#Retirado do Projeto de exemplo: https://gist.github.com/carlward/54ec1c91b62a5f911c42#file-sample_project-md , \n",
    "#A Realização desta query por JOIN estava muito lenta, e a partir desta fonte pude verificar que \n",
    "#um subSelect melhoraria a performance.\n",
    "sqlite> SELECT COUNT(DISTINCT(e.uid))          \n",
    "FROM (SELECT uid FROM nodes UNION ALL SELECT uid FROM ways) e;\n",
    "\n",
    "545"
   ]
  },
  {
   "cell_type": "markdown",
   "metadata": {},
   "source": [
    "** Quantidade de locais para bicicletas**"
   ]
  },
  {
   "cell_type": "code",
   "execution_count": null,
   "metadata": {
    "collapsed": true
   },
   "outputs": [],
   "source": [
    "sqlite> SELECT COUNT(*) as num FROM nodes_tags WHERE key='bicycle_parking' ORDER BY num DESC;\n",
    "\n",
    "80"
   ]
  },
  {
   "cell_type": "markdown",
   "metadata": {},
   "source": [
    "# Idéias Adicionais\n",
    "\n"
   ]
  },
  {
   "cell_type": "markdown",
   "metadata": {},
   "source": [
    "# * Crowdsourcing estimulado\n",
    "\n",
    "A fim de estimular a contribuição é sugerido um esquema que estimulasse o crowdsourcing e ao mesmo tempo a confiabilidade das informações registradas. Um sistema de curtidas como em diversas redes sociais seria implementado caso usuários consultassem a informação e confirmassem como Verídico e condizente com a realidade, este índice já teria um bonus de curtidas iniciais caso a informação registrada fosse de um morador da região local, quanto mais curtidas mais preciso a informação. Para implementar esta solução seria necessário pensar e contornar as seguinte situações:\n",
    "\n",
    "* Cada \"Curtida\" deverá ser ser vinculada a um usuário do OSM para evitar mais de uma curtida da mesma pessoa em um mesmo Node ou Way, Sendo assim, só poderá participar usuários com registro.\n",
    "\n",
    "* Usuários deverão ter em seu registro um código postal(CEP) para que ganhe bônus de curtidas no Node ou Way caso registrasse um de sua região.\n",
    "\n",
    "* Seria realizado um levantamento de usuários cadastrados que moram na região, caso o número de curtidas superassem 70% do tamanho da população, uma insígnia de \"Endereço Confiável\" seria atribuido a aquele Registro(podendo ser inclusive uma tag extra) e o usuário poderia ser recompensado de alguma forma.\n"
   ]
  },
  {
   "cell_type": "markdown",
   "metadata": {},
   "source": [
    "# Exploração de Dados Adicionais\n",
    "\n"
   ]
  },
  {
   "cell_type": "markdown",
   "metadata": {},
   "source": [
    "**Quais os CEPs com maior número de registros registros?**"
   ]
  },
  {
   "cell_type": "code",
   "execution_count": null,
   "metadata": {
    "collapsed": false
   },
   "outputs": [],
   "source": [
    "\n",
    "\n",
    "sqlite3> SELECT e.value, COUNT(*) as num \n",
    "FROM (SELECT * FROM nodes_tags UNION ALL SELECT * FROM ways_tags) as e \n",
    "WHERE e.key = 'postcode' \n",
    "GROUP BY e.value \n",
    "ORDER BY num DESC \n",
    "LIMIT 10;\n",
    "\n",
    "73045151|68\n",
    "71680357|54\n",
    "71570613|44\n",
    "71503505|23\n",
    "71060230|15\n",
    "70910900|13\n",
    "71503502|11\n",
    "71681740|8\n",
    "71680379|7\n",
    "71503501|6"
   ]
  },
  {
   "cell_type": "markdown",
   "metadata": {},
   "source": [
    "Segundo a API dos correios o CEP com maior número de registros(73045151) é de Sobradinho, uma região administrativa do Distrito Federal, é uma informação de certa forma surpreendente."
   ]
  },
  {
   "cell_type": "markdown",
   "metadata": {},
   "source": [
    "**Quais as Maiores Opções de Turismo?**"
   ]
  },
  {
   "cell_type": "code",
   "execution_count": null,
   "metadata": {
    "collapsed": true
   },
   "outputs": [],
   "source": [
    "SELECT value, COUNT(*) as num FROM nodes_tags WHERE key='tourism' GROUP BY value ORDER BY num DESC LIMIT 10;\n",
    "hotel|60\n",
    "viewpoint|18\n",
    "attraction|9\n",
    "museum|7\n",
    "picnic_site|7\n",
    "information|4\n",
    "caravan_site|3\n",
    "artwork|2\n",
    "hostel|2\n",
    "gallery|1"
   ]
  },
  {
   "cell_type": "markdown",
   "metadata": {},
   "source": [
    "O Número de Hotéis é maior do que do que todos os restantes dos registros, acredito que se isso for investigado mais a fundo poderia dar uma idéia ou da falta de registros de atrativos no OpenStreetMap ou que realmente faltas mais opções de turismo."
   ]
  },
  {
   "cell_type": "markdown",
   "metadata": {},
   "source": [
    "**Horário de Funcionamento mais comum para restaurantes?**"
   ]
  },
  {
   "cell_type": "code",
   "execution_count": null,
   "metadata": {
    "collapsed": true
   },
   "outputs": [],
   "source": [
    "sqlite3> SELECT nodes_tags.value, COUNT(*) as num\n",
    "   FROM nodes_tags \n",
    "   JOIN (SELECT DISTINCT(id) FROM nodes_tags WHERE value='restaurant') i\n",
    "   ON nodes_tags.id=i.id\n",
    "   WHERE nodes_tags.key='opening_hours'\n",
    "   GROUP BY nodes_tags.value\n",
    "   ORDER BY num DESC\n",
    "   LIMIT 1;\n",
    "    \n",
    "24/7 | 5\n"
   ]
  },
  {
   "cell_type": "markdown",
   "metadata": {},
   "source": [
    "O Horário de funcionamento mais comum é o famoso 24/7 ou seja 5 restaurantes aqui registrados estão sempre abertos, boa notícia para quem gosta de comer, mas não se engane se estiver esperando variedade, pois de acordo com a próxima consulta: "
   ]
  },
  {
   "cell_type": "code",
   "execution_count": null,
   "metadata": {
    "collapsed": true
   },
   "outputs": [],
   "source": [
    "SELECT nodes_tags.value, COUNT(*) as num\n",
    "   ...>    FROM nodes_tags \n",
    "   ...>    JOIN (SELECT DISTINCT(id) FROM nodes_tags WHERE value='24/7') i\n",
    "   ...>    ON nodes_tags.id=i.id\n",
    "   ...>    WHERE nodes_tags.key='name'\n",
    "   ...>    GROUP BY nodes_tags.value\n",
    "   ...>    ORDER BY num DESC\n",
    "   ...>    LIMIT 1;\n",
    "    \n",
    "Subway|5"
   ]
  },
  {
   "cell_type": "markdown",
   "metadata": {},
   "source": [
    "As 5 unidades 24/7 encontradas são todos Subway."
   ]
  },
  {
   "cell_type": "markdown",
   "metadata": {},
   "source": [
    "# Conclusão\n",
    "\n",
    "Após esta revisão sobre este conjunto de dados foi identificado pouquissimos problemas em relação as informações registradas, sendo os problemas apenas em relação ao padrão do tipo de dados estabelecido, as informações como CEP e endereços pelo que se pode auditar foram fiéis a realidade e o restante dos endereços e CEPs acredito que foram bem limpos após esta análise, como a maioria do problema foi em relação a uma forma padrão de dados, é sugerido apenas que proponham que certos tipos de dados sigam um padrão estabelecido(Códigos postais sem caracteres especiais por exemplo). "
   ]
  }
 ],
 "metadata": {
  "anaconda-cloud": {},
  "kernelspec": {
   "display_name": "Python [Root]",
   "language": "python",
   "name": "Python [Root]"
  },
  "language_info": {
   "codemirror_mode": {
    "name": "ipython",
    "version": 2
   },
   "file_extension": ".py",
   "mimetype": "text/x-python",
   "name": "python",
   "nbconvert_exporter": "python",
   "pygments_lexer": "ipython2",
   "version": "2.7.12"
  }
 },
 "nbformat": 4,
 "nbformat_minor": 0
}
